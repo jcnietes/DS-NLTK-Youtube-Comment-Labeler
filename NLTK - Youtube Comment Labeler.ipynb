{
 "cells": [
  {
   "cell_type": "code",
   "execution_count": 1,
   "id": "6c9e8db9",
   "metadata": {},
   "outputs": [],
   "source": [
    "from nltk.stem.porter import PorterStemmer\n",
    "import string, csv, os, sys, nltk\n",
    "import pandas as pd\n",
    "import numpy as np\n",
    "import re, pickle, contractions, nltk\n",
    "import preprocessor as p\n",
    "from nltk import word_tokenize, FreqDist\n",
    "from nltk.corpus import stopwords\n",
    "from nltk.stem import WordNetLemmatizer\n",
    "from nltk.tokenize import TweetTokenizer\n",
    "from sklearn.feature_extraction.text import TfidfVectorizer \n",
    "from sklearn.model_selection import StratifiedKFold\n",
    "from sklearn.svm import SVC\n",
    "from sklearn.metrics import accuracy_score, precision_recall_fscore_support\n",
    "from pathlib import Path\n",
    "from collections import Counter\n",
    "import ast"
   ]
  },
  {
   "cell_type": "code",
   "execution_count": 26,
   "id": "78b2d2a8",
   "metadata": {},
   "outputs": [],
   "source": [
    "def lemmatize_text(text):  \n",
    "    porter_stemmer = PorterStemmer()\n",
    "    lemmatizer = nltk.stem.WordNetLemmatizer()\n",
    "    w_tokenizer = TweetTokenizer()\n",
    "    return [( porter_stemmer.stem(lemmatizer.lemmatize(w))  )  for w in w_tokenizer.tokenize((text))]\n"
   ]
  },
  {
   "cell_type": "code",
   "execution_count": 27,
   "id": "ddd54ab7",
   "metadata": {},
   "outputs": [],
   "source": [
    "def clean_tweets(comments):\n",
    "    comments['comment_clean'] = np.nan\n",
    "    #add hashtags into a column\n",
    "\n",
    "    for i,v in enumerate(comments['text']):\n",
    "        #basic cleaning (urls, mentions, emojis, smileys, hashtags, reserved words(rt,fav\n",
    "        clean = p.clean(v)\n",
    "\n",
    "        #remove links\n",
    "        clean = re.sub(r'http\\S+', '', clean)\n",
    "\n",
    "        #remove digits\n",
    "        clean = re.sub('[0-9]+', '', clean)\n",
    "\n",
    "        #make string lowercase\n",
    "        clean = clean.lower()\n",
    "\n",
    "        #expand contractions\n",
    "        clean = contractions.fix(clean)\n",
    "\n",
    "        #remove punctuations\n",
    "        clean = re.sub(r'[^\\w\\s]', '', clean)\n",
    "\n",
    "        #remove underscores\n",
    "        clean = clean.replace(\"_\",\" \")\n",
    "\n",
    "        #remove words: hagupit, ruby, rubyph\n",
    "        remove_words = ['cong', 'congtv', 'team payaman']\n",
    "        clean_list= clean.split()\n",
    "        clean_list = [word for word in clean_list if word.lower() not in remove_words]\n",
    "        clean = ' '.join(clean_list)\n",
    "\n",
    "        #lemmatize and get ngrams\n",
    "        clean = lemmatize_text(clean)\n",
    "\n",
    "        #set tweet_clean column data type as object\n",
    "        comments['comment_clean'] = comments['comment_clean'].astype('object')\n",
    "\n",
    "        #insert preprocessed texts into column\n",
    "        comments.at[i, 'comment_clean'] = clean\n",
    "\n",
    "    #remove stopwords\n",
    "    stop_words = set(stopwords.words('english'))\n",
    "    comments['comment_clean'] = comments['comment_clean'].apply(lambda x: [item for item in x if item not in stop_words])\n",
    "\n",
    "    #combine unigrams into string\n",
    "    for i,v in enumerate(comments['comment_clean']):\n",
    "        unigram_string = ' '.join(v)\n",
    "        comments.at[i, 'comment_clean'] = unigram_string\n",
    "\n",
    "    return comments"
   ]
  },
  {
   "cell_type": "code",
   "execution_count": 28,
   "id": "85e14c7b",
   "metadata": {},
   "outputs": [
    {
     "data": {
      "text/plain": [
       "others        157\n",
       "compliment    136\n",
       "suggestion      4\n",
       "question        2\n",
       "shoutout        1\n",
       "Name: label, dtype: int64"
      ]
     },
     "execution_count": 28,
     "metadata": {},
     "output_type": "execute_result"
    }
   ],
   "source": [
    "df = pd.read_csv('all.csv')\n",
    "df = df.iloc[:300]\n",
    "df['label'].value_counts()"
   ]
  },
  {
   "cell_type": "code",
   "execution_count": 29,
   "id": "d9a261f3",
   "metadata": {},
   "outputs": [],
   "source": [
    "vect = TfidfVectorizer(use_idf=True, min_df=5, max_df=0.85, ngram_range=(1,2))\n",
    "\n",
    "\n",
    "X = clean_tweets( df )['comment_clean']\n",
    "vect.fit(X) \n",
    "X = vect.fit_transform( X )\n",
    "y = df['label']\n"
   ]
  },
  {
   "cell_type": "code",
   "execution_count": 30,
   "id": "e8b48ec5",
   "metadata": {},
   "outputs": [
    {
     "data": {
      "text/plain": [
       "SVC()"
      ]
     },
     "execution_count": 30,
     "metadata": {},
     "output_type": "execute_result"
    }
   ],
   "source": [
    "from sklearn.model_selection import train_test_split\n",
    "\n",
    "X_train, X_test, y_train, y_test = train_test_split( X, y, test_size=0.20, random_state=42)\n",
    "clf = SVC(kernel='rbf')\n",
    "clf.fit(X_train, y_train)"
   ]
  },
  {
   "cell_type": "code",
   "execution_count": 31,
   "id": "bec89dcc",
   "metadata": {},
   "outputs": [
    {
     "data": {
      "text/plain": [
       "0.8166666666666667"
      ]
     },
     "execution_count": 31,
     "metadata": {},
     "output_type": "execute_result"
    }
   ],
   "source": [
    "y_pred = clf.predict(X_test)\n",
    "accuracy_score(y_test, y_pred)\n"
   ]
  },
  {
   "cell_type": "code",
   "execution_count": 32,
   "id": "699e5e90",
   "metadata": {},
   "outputs": [
    {
     "name": "stderr",
     "output_type": "stream",
     "text": [
      "c:\\users\\arjna\\appdata\\local\\programs\\python\\python39\\lib\\site-packages\\sklearn\\metrics\\_classification.py:1248: UndefinedMetricWarning: Precision and F-score are ill-defined and being set to 0.0 in labels with no predicted samples. Use `zero_division` parameter to control this behavior.\n",
      "  _warn_prf(average, modifier, msg_start, len(result))\n"
     ]
    },
    {
     "data": {
      "text/plain": [
       "(array([0.9047619 , 0.76923077, 0.        ]),\n",
       " array([0.7037037, 0.9375   , 0.       ]),\n",
       " array([0.79166667, 0.84507042, 0.        ]),\n",
       " array([27, 32,  1], dtype=int64))"
      ]
     },
     "execution_count": 32,
     "metadata": {},
     "output_type": "execute_result"
    }
   ],
   "source": [
    "\n",
    "precision_recall_fscore_support(y_test,y_pred, average=None)"
   ]
  },
  {
   "cell_type": "code",
   "execution_count": 33,
   "id": "ae23e265",
   "metadata": {},
   "outputs": [
    {
     "name": "stderr",
     "output_type": "stream",
     "text": [
      "c:\\users\\arjna\\appdata\\local\\programs\\python\\python39\\lib\\site-packages\\sklearn\\metrics\\_classification.py:1248: UndefinedMetricWarning: Precision is ill-defined and being set to 0.0 in labels with no predicted samples. Use `zero_division` parameter to control this behavior.\n",
      "  _warn_prf(average, modifier, msg_start, len(result))\n"
     ]
    },
    {
     "data": {
      "text/plain": [
       "array([0.9047619 , 0.76923077, 0.        ])"
      ]
     },
     "execution_count": 33,
     "metadata": {},
     "output_type": "execute_result"
    }
   ],
   "source": [
    "from sklearn.metrics import precision_score\n",
    "precision_score(y_test, y_pred, average=None)"
   ]
  },
  {
   "cell_type": "code",
   "execution_count": 34,
   "id": "00cf4f6b",
   "metadata": {},
   "outputs": [
    {
     "data": {
      "text/plain": [
       "0.5470679012345679"
      ]
     },
     "execution_count": 34,
     "metadata": {},
     "output_type": "execute_result"
    }
   ],
   "source": [
    "from sklearn.metrics import recall_score\n",
    "recall_score(y_test, y_pred, average='macro')"
   ]
  },
  {
   "cell_type": "code",
   "execution_count": 35,
   "id": "000627f3",
   "metadata": {},
   "outputs": [
    {
     "name": "stdout",
     "output_type": "stream",
     "text": [
      "              precision    recall  f1-score   support\n",
      "\n",
      "  compliment       0.90      0.70      0.79        27\n",
      "      others       0.77      0.94      0.85        32\n",
      "    question       0.00      0.00      0.00         1\n",
      "\n",
      "    accuracy                           0.82        60\n",
      "   macro avg       0.56      0.55      0.55        60\n",
      "weighted avg       0.82      0.82      0.81        60\n",
      "\n"
     ]
    },
    {
     "name": "stderr",
     "output_type": "stream",
     "text": [
      "c:\\users\\arjna\\appdata\\local\\programs\\python\\python39\\lib\\site-packages\\sklearn\\metrics\\_classification.py:1248: UndefinedMetricWarning: Precision and F-score are ill-defined and being set to 0.0 in labels with no predicted samples. Use `zero_division` parameter to control this behavior.\n",
      "  _warn_prf(average, modifier, msg_start, len(result))\n",
      "c:\\users\\arjna\\appdata\\local\\programs\\python\\python39\\lib\\site-packages\\sklearn\\metrics\\_classification.py:1248: UndefinedMetricWarning: Precision and F-score are ill-defined and being set to 0.0 in labels with no predicted samples. Use `zero_division` parameter to control this behavior.\n",
      "  _warn_prf(average, modifier, msg_start, len(result))\n",
      "c:\\users\\arjna\\appdata\\local\\programs\\python\\python39\\lib\\site-packages\\sklearn\\metrics\\_classification.py:1248: UndefinedMetricWarning: Precision and F-score are ill-defined and being set to 0.0 in labels with no predicted samples. Use `zero_division` parameter to control this behavior.\n",
      "  _warn_prf(average, modifier, msg_start, len(result))\n"
     ]
    }
   ],
   "source": [
    "from sklearn.metrics import classification_report\n",
    "print(classification_report(y_test, y_pred) )\n"
   ]
  },
  {
   "cell_type": "code",
   "execution_count": 12,
   "id": "d0058c68",
   "metadata": {},
   "outputs": [],
   "source": [
    "def use_model(text , model):\n",
    "    text = [text,]\n",
    "    features = vect.transform(text)\n",
    "    y_pred = model.predict(features)\n",
    "\n",
    "    return y_pred"
   ]
  },
  {
   "cell_type": "code",
   "execution_count": 25,
   "id": "3a1f39c1",
   "metadata": {},
   "outputs": [
    {
     "data": {
      "text/plain": [
       "array(['others'], dtype=object)"
      ]
     },
     "execution_count": 25,
     "metadata": {},
     "output_type": "execute_result"
    }
   ],
   "source": [
    "use_model( \"sana manotice\" ,clf)"
   ]
  }
 ],
 "metadata": {
  "kernelspec": {
   "display_name": "Python 3 (ipykernel)",
   "language": "python",
   "name": "python3"
  },
  "language_info": {
   "codemirror_mode": {
    "name": "ipython",
    "version": 3
   },
   "file_extension": ".py",
   "mimetype": "text/x-python",
   "name": "python",
   "nbconvert_exporter": "python",
   "pygments_lexer": "ipython3",
   "version": "3.9.5"
  }
 },
 "nbformat": 4,
 "nbformat_minor": 5
}
